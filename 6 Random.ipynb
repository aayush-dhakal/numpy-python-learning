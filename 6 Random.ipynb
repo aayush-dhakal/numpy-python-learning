{
 "cells": [
  {
   "cell_type": "code",
   "execution_count": 1,
   "id": "cc44d666-a873-42f9-8bc7-046388baaf09",
   "metadata": {},
   "outputs": [],
   "source": [
    "import numpy as np"
   ]
  },
  {
   "cell_type": "code",
   "execution_count": 2,
   "id": "a7d48932-6a5e-4c58-ae37-421596ea3368",
   "metadata": {},
   "outputs": [
    {
     "data": {
      "text/plain": [
       "array([4, 3, 2])"
      ]
     },
     "execution_count": 2,
     "metadata": {},
     "output_type": "execute_result"
    }
   ],
   "source": [
    "# this will randomly generate the number and will be unique each time you run it\n",
    "np.random.randint(low=1, high=7, size=3)"
   ]
  },
  {
   "cell_type": "code",
   "execution_count": 3,
   "id": "2f734e46-9bb1-4c02-9ad0-7160c7ee4b87",
   "metadata": {},
   "outputs": [
    {
     "data": {
      "text/plain": [
       "array([2, 3, 2])"
      ]
     },
     "execution_count": 3,
     "metadata": {},
     "output_type": "execute_result"
    }
   ],
   "source": [
    "np.random.randint(low=1, high=7, size=3)"
   ]
  },
  {
   "cell_type": "code",
   "execution_count": 4,
   "id": "41b58909-0918-4d2c-a088-b86fd1ae386f",
   "metadata": {},
   "outputs": [
    {
     "data": {
      "text/plain": [
       "array([6, 3, 5])"
      ]
     },
     "execution_count": 4,
     "metadata": {},
     "output_type": "execute_result"
    }
   ],
   "source": [
    "# provide a seed to get the same random number every time you run this block of code\n",
    "np.random.seed(123)\n",
    "np.random.randint(low=1, high=7, size=3)"
   ]
  },
  {
   "cell_type": "code",
   "execution_count": 12,
   "id": "0d1623f3-0671-4e05-a837-a691fd95ffdd",
   "metadata": {},
   "outputs": [
    {
     "data": {
      "text/plain": [
       "array([6, 5, 1])"
      ]
     },
     "execution_count": 12,
     "metadata": {},
     "output_type": "execute_result"
    }
   ],
   "source": [
    "np.random.seed(2357)\n",
    "np.random.choice(\n",
    "    a = np.arange(1,7), # [1,2,3,4,5,6]\n",
    "    size = 3, # means sample or select 3 values\n",
    "    replace = False, # meaning the same number will not be selected more than once for the resulting array\n",
    "    p = None # the p parameter specifies the probabilities associated with each entry in the array a. If p is set to None, it means that each entry in the array a is equally likely to be chosen; that is, the selection is made with a uniform distribution.\n",
    "    # The code without explicitly using p=None for the probabilities still implies a uniform distribution by default. \n",
    ")"
   ]
  },
  {
   "cell_type": "code",
   "execution_count": 13,
   "id": "14a50b88-7c79-4fb3-9c45-9eb33e51978a",
   "metadata": {},
   "outputs": [
    {
     "data": {
      "text/plain": [
       "array([5, 2, 6])"
      ]
     },
     "execution_count": 13,
     "metadata": {},
     "output_type": "execute_result"
    }
   ],
   "source": [
    "np.random.choice(\n",
    "    a = np.arange(1,7), # [1,2,3,4,5,6]\n",
    "    size = 3, # means sample or select 3 values\n",
    "    replace = False, # meaning the same number will not be selected more than once for the resulting array\n",
    "    p = np.array([0.1, 0.1, 0.1, 0.1, 0.3, 0.3]) # the p parameter specifies the probabilities associated with each entry in the array a. \n",
    "    # if you wish to provide the probability of occurrence of each element of the array then you must give probability to all elements of the array so p's length must be equal to that of a. And the sum of all probabilities must be 1.\n",
    "    # Here we are setting the high probability of occurrence to 5 and 6 with 0.3 and rest with 0.1\n",
    ")"
   ]
  },
  {
   "cell_type": "markdown",
   "id": "c0adc825-39c4-42cb-b2c3-7604790c33d2",
   "metadata": {},
   "source": [
    "### Select randomly from array"
   ]
  },
  {
   "cell_type": "code",
   "execution_count": 14,
   "id": "c7602d4f-94a6-4815-98ca-c2cd3334e797",
   "metadata": {},
   "outputs": [],
   "source": [
    "foo = np.array([\n",
    "    [1, 2],\n",
    "    [3, 4],\n",
    "    [5, 6],\n",
    "    [7, 8],\n",
    "    [9, 10]\n",
    "])"
   ]
  },
  {
   "cell_type": "code",
   "execution_count": 19,
   "id": "07587929-dfd3-42e9-8035-36a74007fb0b",
   "metadata": {},
   "outputs": [
    {
     "name": "stdout",
     "output_type": "stream",
     "text": [
      "[3 4 4]\n"
     ]
    }
   ],
   "source": [
    "np.random.seed(1234)\n",
    "rand_rows = np.random.randint(\n",
    "    low=0,\n",
    "    high=foo.shape[0], # gives (5, 2)\n",
    "    size=3\n",
    ")\n",
    "\n",
    "print(rand_rows)"
   ]
  },
  {
   "cell_type": "code",
   "execution_count": 18,
   "id": "9452bbf0-fe5b-4b7b-8dd1-c1b5e8c01fe4",
   "metadata": {},
   "outputs": [
    {
     "data": {
      "text/plain": [
       "array([[ 7,  8],\n",
       "       [ 9, 10],\n",
       "       [ 9, 10]])"
      ]
     },
     "execution_count": 18,
     "metadata": {},
     "output_type": "execute_result"
    }
   ],
   "source": [
    "foo[rand_rows] # selecting 3rd, 4th and 4th position elements of foo"
   ]
  },
  {
   "cell_type": "code",
   "execution_count": 20,
   "id": "096690cf-f25c-445b-bdd9-6f4c1133f3aa",
   "metadata": {},
   "outputs": [
    {
     "name": "stdout",
     "output_type": "stream",
     "text": [
      "[4 0 1]\n"
     ]
    }
   ],
   "source": [
    "np.random.seed(1234)\n",
    "rand_rows = np.random.choice(\n",
    "    a = np.arange(start = 0, stop = foo.shape[0]),\n",
    "    replace = False,\n",
    "    size=3\n",
    ")\n",
    "\n",
    "print(rand_rows)"
   ]
  },
  {
   "cell_type": "code",
   "execution_count": 21,
   "id": "a41e4320-a086-44db-a057-07c9c2878b01",
   "metadata": {},
   "outputs": [
    {
     "data": {
      "text/plain": [
       "array([[ 9, 10],\n",
       "       [ 1,  2],\n",
       "       [ 3,  4]])"
      ]
     },
     "execution_count": 21,
     "metadata": {},
     "output_type": "execute_result"
    }
   ],
   "source": [
    "foo[rand_rows]"
   ]
  },
  {
   "cell_type": "code",
   "execution_count": 22,
   "id": "7ca70082-6c1d-4411-b413-c85ebbed0555",
   "metadata": {},
   "outputs": [
    {
     "data": {
      "text/plain": [
       "array([[ 7,  8],\n",
       "       [ 5,  6],\n",
       "       [ 3,  4],\n",
       "       [ 1,  2],\n",
       "       [ 9, 10]])"
      ]
     },
     "execution_count": 22,
     "metadata": {},
     "output_type": "execute_result"
    }
   ],
   "source": [
    "# use permutation to shuffle the array along with its first axis\n",
    "np.random.permutation(foo)"
   ]
  },
  {
   "cell_type": "code",
   "execution_count": 28,
   "id": "5991acc9-f242-407c-9168-c56daac70bc0",
   "metadata": {},
   "outputs": [
    {
     "data": {
      "text/plain": [
       "array([[1.29072855, 1.24639444],\n",
       "       [1.73828677, 1.88922613]])"
      ]
     },
     "execution_count": 28,
     "metadata": {},
     "output_type": "execute_result"
    }
   ],
   "source": [
    "# random unifrom sample\n",
    "np.random.uniform(low = 1.0, high = 2.0, size = (2,2))\n",
    "# In a uniform distribution, every number within a specified range has an equal chance of being drawn. There are no numbers in the range that are more likely than others."
   ]
  },
  {
   "cell_type": "code",
   "execution_count": 27,
   "id": "f6e37da2-04ca-4510-b164-e200d1e6bf18",
   "metadata": {},
   "outputs": [
    {
     "data": {
      "text/plain": [
       "array([-0.38786434, -0.04653935])"
      ]
     },
     "execution_count": 27,
     "metadata": {},
     "output_type": "execute_result"
    }
   ],
   "source": [
    "# normal sample\n",
    "np.random.normal(loc = 0.0, scale = 1.0, size = 2)\n",
    "# In a normal distribution, numbers are drawn in a way that they are more likely to be close to the mean (central value) and less likely to be at the extremes. It has a characteristic bell curve shape."
   ]
  },
  {
   "cell_type": "markdown",
   "id": "e822b122-417b-4dcc-a596-e2d0866823ee",
   "metadata": {},
   "source": [
    "## New way of generating random number"
   ]
  },
  {
   "cell_type": "markdown",
   "id": "48d4a375-6da6-4b20-af00-0a7140719e52",
   "metadata": {},
   "source": [
    "We just have to define the algorithm so that we get the same output every time."
   ]
  },
  {
   "cell_type": "code",
   "execution_count": 30,
   "id": "0e07e15f-91c1-4f3d-aadb-9f7b09707be4",
   "metadata": {},
   "outputs": [],
   "source": [
    "# create a generator\n",
    "generator = np.random.default_rng(seed=123)"
   ]
  },
  {
   "cell_type": "code",
   "execution_count": 36,
   "id": "50935c43-18c3-45f3-a789-29527be16506",
   "metadata": {},
   "outputs": [
    {
     "data": {
      "text/plain": [
       "array([3, 6, 3], dtype=int64)"
      ]
     },
     "execution_count": 36,
     "metadata": {},
     "output_type": "execute_result"
    }
   ],
   "source": [
    "# Sample three ints between 1 and 6 with replacement\n",
    "# before: np.randomint(low=1, high=7, size=3)\n",
    "# now:\n",
    "generator.integers(low=1, high=7, size=3)"
   ]
  },
  {
   "cell_type": "code",
   "execution_count": 35,
   "id": "5261be83-3fbb-4ac2-9c14-2ca37ec3177c",
   "metadata": {},
   "outputs": [
    {
     "data": {
      "text/plain": [
       "array([1, 3, 8], dtype=int64)"
      ]
     },
     "execution_count": 35,
     "metadata": {},
     "output_type": "execute_result"
    }
   ],
   "source": [
    "# Sample three ints between 0 and 9 without replacement\n",
    "# before: np.random.choice(a=10, size=3, replace=True)\n",
    "generator.choice(a=10, size=3, replace=True)"
   ]
  },
  {
   "cell_type": "code",
   "execution_count": 37,
   "id": "417d9be3-a3b5-4037-a351-1b03af66e971",
   "metadata": {},
   "outputs": [
    {
     "data": {
      "text/plain": [
       "array([[ 9, 10],\n",
       "       [ 5,  6],\n",
       "       [ 7,  8],\n",
       "       [ 1,  2],\n",
       "       [ 3,  4]])"
      ]
     },
     "execution_count": 37,
     "metadata": {},
     "output_type": "execute_result"
    }
   ],
   "source": [
    "# Randomly shuffle the rows of a 2d array, foo\n",
    "# before: np.random.permutation(foo)\n",
    "generator.permutation(foo, axis=0)"
   ]
  },
  {
   "cell_type": "code",
   "execution_count": 38,
   "id": "37bf2506-cfd9-48d6-a64f-9a58be742647",
   "metadata": {},
   "outputs": [
    {
     "data": {
      "text/plain": [
       "array([[1.51297046, 1.2449646 ],\n",
       "       [1.8242416 , 1.21376296]])"
      ]
     },
     "execution_count": 38,
     "metadata": {},
     "output_type": "execute_result"
    }
   ],
   "source": [
    "# Randomly sample values from a uniform distribution\n",
    "# before: np.random.uniform(low = 1.0, high = 2.0, size = (2, 2))\n",
    "generator.uniform(low = 1.0, high = 2.0, size = (2, 2))"
   ]
  },
  {
   "cell_type": "code",
   "execution_count": 39,
   "id": "884848b5-d49c-4f52-8162-7b6a22357fd3",
   "metadata": {},
   "outputs": [
    {
     "data": {
      "text/plain": [
       "array([1.00026942, 0.13632112])"
      ]
     },
     "execution_count": 39,
     "metadata": {},
     "output_type": "execute_result"
    }
   ],
   "source": [
    "# Randomly sample values from a standard normal distribution\n",
    "# before: np.random.normal(loc = 0.0, scale = 1.0, size = 2)\n",
    "generator.normal(loc = 0.0, scale = 1.0, size = 2)"
   ]
  },
  {
   "cell_type": "code",
   "execution_count": 40,
   "id": "d80823d5-a3b7-4fca-99c6-de73cf7022d4",
   "metadata": {},
   "outputs": [
    {
     "data": {
      "text/plain": [
       "array([[5, 1],\n",
       "       [4, 2],\n",
       "       [1, 1]], dtype=int64)"
      ]
     },
     "execution_count": 40,
     "metadata": {},
     "output_type": "execute_result"
    }
   ],
   "source": [
    "# Randomly sample values from a binomial distribution\n",
    "# before: np.random.binomial(n = 10, p = 0.25, size = (3,2))\n",
    "generator.binomial(n = 10, p = 0.25, size = (3,2))"
   ]
  },
  {
   "cell_type": "code",
   "execution_count": null,
   "id": "fc2f522a-a2fb-4491-92bb-b0db5abba365",
   "metadata": {},
   "outputs": [],
   "source": []
  }
 ],
 "metadata": {
  "kernelspec": {
   "display_name": "Python 3 (ipykernel)",
   "language": "python",
   "name": "python3"
  },
  "language_info": {
   "codemirror_mode": {
    "name": "ipython",
    "version": 3
   },
   "file_extension": ".py",
   "mimetype": "text/x-python",
   "name": "python",
   "nbconvert_exporter": "python",
   "pygments_lexer": "ipython3",
   "version": "3.12.1"
  }
 },
 "nbformat": 4,
 "nbformat_minor": 5
}
