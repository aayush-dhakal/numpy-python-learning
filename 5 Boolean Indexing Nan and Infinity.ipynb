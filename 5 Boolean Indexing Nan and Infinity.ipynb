{
 "cells": [
  {
   "cell_type": "markdown",
   "id": "e6c3eee4-18b8-4d96-949c-016f87d7dd81",
   "metadata": {},
   "source": [
    "### Boolean Indexing"
   ]
  },
  {
   "cell_type": "code",
   "execution_count": 1,
   "id": "f7bf6cfb-40d1-4787-855f-0c2454067ce9",
   "metadata": {},
   "outputs": [],
   "source": [
    "import numpy as np"
   ]
  },
  {
   "cell_type": "code",
   "execution_count": 2,
   "id": "a692a3c2-c7e0-4b36-af03-96d6ba43e6a7",
   "metadata": {},
   "outputs": [],
   "source": [
    "foo = np.array([\n",
    "    [3,9,7],\n",
    "    [2,0,3],\n",
    "    [3,3,1]\n",
    "])"
   ]
  },
  {
   "cell_type": "code",
   "execution_count": 5,
   "id": "884d0c9e-9f84-43f4-84fa-aec76f6c6cd4",
   "metadata": {},
   "outputs": [],
   "source": [
    "mask = foo == 3 \n",
    "# this mask will be an matrix of boolean value and it will have True as value if the item value is 3"
   ]
  },
  {
   "cell_type": "code",
   "execution_count": 4,
   "id": "86daaaf3-530b-43a2-969b-7fef736fbb1b",
   "metadata": {},
   "outputs": [
    {
     "data": {
      "text/plain": [
       "array([[ True, False, False],\n",
       "       [False, False,  True],\n",
       "       [ True,  True, False]])"
      ]
     },
     "execution_count": 4,
     "metadata": {},
     "output_type": "execute_result"
    }
   ],
   "source": [
    "mask"
   ]
  },
  {
   "cell_type": "code",
   "execution_count": 7,
   "id": "d01781c5-f840-402b-9edc-562b1cfed1e0",
   "metadata": {},
   "outputs": [
    {
     "name": "stdout",
     "output_type": "stream",
     "text": [
      "[[0 9 7]\n",
      " [2 0 0]\n",
      " [0 0 1]]\n"
     ]
    }
   ],
   "source": [
    "foo[mask] = 0 # this will replace all the value 3 with 0\n",
    "print(foo)"
   ]
  },
  {
   "cell_type": "code",
   "execution_count": 8,
   "id": "95476e0c-d829-4fa6-b75a-079fb69b7470",
   "metadata": {},
   "outputs": [],
   "source": [
    "# return specific row and columns\n",
    "rows_1_and_3 = np.array([True, False, True])\n",
    "cols_2_and_3 = np.array([False, True, True])"
   ]
  },
  {
   "cell_type": "code",
   "execution_count": 12,
   "id": "5c7a2cb2-9df6-4c1f-833a-2ca7fa0addd0",
   "metadata": {},
   "outputs": [
    {
     "data": {
      "text/plain": [
       "array([[0, 9, 7],\n",
       "       [0, 0, 1]])"
      ]
     },
     "execution_count": 12,
     "metadata": {},
     "output_type": "execute_result"
    }
   ],
   "source": [
    "foo[rows_1_and_3] # selects like foo[[0,2]] ie first and last row"
   ]
  },
  {
   "cell_type": "code",
   "execution_count": 13,
   "id": "5e415f5c-5e4e-470e-82a2-95fbb30febfc",
   "metadata": {},
   "outputs": [
    {
     "data": {
      "text/plain": [
       "array([[9, 7],\n",
       "       [0, 0],\n",
       "       [0, 1]])"
      ]
     },
     "execution_count": 13,
     "metadata": {},
     "output_type": "execute_result"
    }
   ],
   "source": [
    "foo[:, cols_2_and_3]  # selects like foo[:, [1,2]] ie all rows and 1th and 2th index columns"
   ]
  },
  {
   "cell_type": "code",
   "execution_count": 14,
   "id": "be3695d9-6dff-4fb5-aae3-bef5a4eaf659",
   "metadata": {},
   "outputs": [
    {
     "data": {
      "text/plain": [
       "array([9, 1])"
      ]
     },
     "execution_count": 14,
     "metadata": {},
     "output_type": "execute_result"
    }
   ],
   "source": [
    "foo[rows_1_and_3, cols_2_and_3] # like foo[[0,2], [1,2]]"
   ]
  },
  {
   "cell_type": "code",
   "execution_count": 17,
   "id": "14521e81-bdd2-4708-a3a6-00a0676af67b",
   "metadata": {},
   "outputs": [],
   "source": [
    "names = np.array([\"Dennis\", \"Dee\", \"Charlie\", \"Mac\", \"Frank\"])\n",
    "ages = np.array([43, 44, 43, 42, 74])\n",
    "genders = np.array(['male', 'female', 'male', 'male', 'male'])"
   ]
  },
  {
   "cell_type": "code",
   "execution_count": 18,
   "id": "c3ddc284-b4d6-4560-89cb-887fbb9b570d",
   "metadata": {},
   "outputs": [
    {
     "data": {
      "text/plain": [
       "array(['Dee', 'Frank'], dtype='<U7')"
      ]
     },
     "execution_count": 18,
     "metadata": {},
     "output_type": "execute_result"
    }
   ],
   "source": [
    "# Who's at least 44?\n",
    "names[ages >= 44]"
   ]
  },
  {
   "cell_type": "code",
   "execution_count": 19,
   "id": "1af6098f-32db-46a3-ac27-49ca217c6bfb",
   "metadata": {},
   "outputs": [
    {
     "data": {
      "text/plain": [
       "array(['Dennis', 'Charlie', 'Frank'], dtype='<U7')"
      ]
     },
     "execution_count": 19,
     "metadata": {},
     "output_type": "execute_result"
    }
   ],
   "source": [
    "# Which males are over 42?\n",
    "names[(genders == 'male') & (ages > 42)]"
   ]
  },
  {
   "cell_type": "code",
   "execution_count": 20,
   "id": "febc4e6a-c31c-4178-b2ef-5c9603b6ccc8",
   "metadata": {},
   "outputs": [
    {
     "data": {
      "text/plain": [
       "array(['Dee', 'Mac'], dtype='<U7')"
      ]
     },
     "execution_count": 20,
     "metadata": {},
     "output_type": "execute_result"
    }
   ],
   "source": [
    "# Who's not a male or is younger than 43?\n",
    "names[~(genders == 'male') | (ages < 43)]"
   ]
  },
  {
   "cell_type": "markdown",
   "id": "dfa1cf9b-6db3-4765-98cb-05cc6e36f76d",
   "metadata": {},
   "source": [
    "### Nan"
   ]
  },
  {
   "cell_type": "code",
   "execution_count": 21,
   "id": "aeb403f7-cc7a-43fd-9b91-a7ecbe184222",
   "metadata": {},
   "outputs": [
    {
     "name": "stdout",
     "output_type": "stream",
     "text": [
      "[[ 1. nan  1.  1.]\n",
      " [ 1.  1.  1.  1.]\n",
      " [ 1.  1. nan  1.]]\n"
     ]
    }
   ],
   "source": [
    "bot = np.ones(shape = (3,4))\n",
    "\n",
    "bot[(0,2),(1,2)] = np.nan\n",
    "\n",
    "print(bot)"
   ]
  },
  {
   "cell_type": "code",
   "execution_count": 22,
   "id": "9d6ad388-9548-4fd7-a979-af8ff1541603",
   "metadata": {},
   "outputs": [
    {
     "data": {
      "text/plain": [
       "array([[False, False, False, False],\n",
       "       [False, False, False, False],\n",
       "       [False, False, False, False]])"
      ]
     },
     "execution_count": 22,
     "metadata": {},
     "output_type": "execute_result"
    }
   ],
   "source": [
    "bot == np.nan"
   ]
  },
  {
   "cell_type": "code",
   "execution_count": 23,
   "id": "5945312f-e039-4c39-93fa-9911796ffc2e",
   "metadata": {},
   "outputs": [
    {
     "data": {
      "text/plain": [
       "False"
      ]
     },
     "execution_count": 23,
     "metadata": {},
     "output_type": "execute_result"
    }
   ],
   "source": [
    "np.nan == np.nan"
   ]
  },
  {
   "cell_type": "code",
   "execution_count": 24,
   "id": "33b60720-780f-404c-ab1c-b9c5af8b4651",
   "metadata": {},
   "outputs": [
    {
     "data": {
      "text/plain": [
       "True"
      ]
     },
     "execution_count": 24,
     "metadata": {},
     "output_type": "execute_result"
    }
   ],
   "source": [
    "np.nan != np.nan"
   ]
  },
  {
   "cell_type": "code",
   "execution_count": 26,
   "id": "7418a200-5609-4b03-b464-ee358ab8f265",
   "metadata": {},
   "outputs": [
    {
     "data": {
      "text/plain": [
       "array([[False,  True, False, False],\n",
       "       [False, False, False, False],\n",
       "       [False, False,  True, False]])"
      ]
     },
     "execution_count": 26,
     "metadata": {},
     "output_type": "execute_result"
    }
   ],
   "source": [
    "np.isnan(bot) # gives true for nan element value"
   ]
  },
  {
   "cell_type": "code",
   "execution_count": 27,
   "id": "5df71b3c-15fa-43ce-be98-02fce3af3f59",
   "metadata": {},
   "outputs": [
    {
     "ename": "ValueError",
     "evalue": "cannot convert float NaN to integer",
     "output_type": "error",
     "traceback": [
      "\u001b[1;31m---------------------------------------------------------------------------\u001b[0m",
      "\u001b[1;31mValueError\u001b[0m                                Traceback (most recent call last)",
      "Cell \u001b[1;32mIn[27], line 3\u001b[0m\n\u001b[0;32m      1\u001b[0m \u001b[38;5;66;03m# you cannot manually assign nan vlaue\u001b[39;00m\n\u001b[0;32m      2\u001b[0m foo \u001b[38;5;241m=\u001b[39m np\u001b[38;5;241m.\u001b[39marray([\u001b[38;5;241m1\u001b[39m,\u001b[38;5;241m2\u001b[39m,\u001b[38;5;241m3\u001b[39m], dtype \u001b[38;5;241m=\u001b[39m \u001b[38;5;124m'\u001b[39m\u001b[38;5;124mint64\u001b[39m\u001b[38;5;124m'\u001b[39m)\n\u001b[1;32m----> 3\u001b[0m \u001b[43mfoo\u001b[49m\u001b[43m[\u001b[49m\u001b[38;5;241;43m1\u001b[39;49m\u001b[43m]\u001b[49m \u001b[38;5;241m=\u001b[39m np\u001b[38;5;241m.\u001b[39mnan\n",
      "\u001b[1;31mValueError\u001b[0m: cannot convert float NaN to integer"
     ]
    }
   ],
   "source": [
    "# you cannot manually assign nan vlaue\n",
    "foo = np.array([1,2,3], dtype = 'int64')\n",
    "foo[1] = np.nan"
   ]
  },
  {
   "cell_type": "markdown",
   "id": "f9581d06-4770-4204-9117-f9733e5a30ec",
   "metadata": {},
   "source": [
    "### Infinity"
   ]
  },
  {
   "cell_type": "code",
   "execution_count": 28,
   "id": "07aa1afb-8eef-4131-ac1f-8602b33c883c",
   "metadata": {},
   "outputs": [
    {
     "data": {
      "text/plain": [
       "array([ inf, -inf])"
      ]
     },
     "execution_count": 28,
     "metadata": {},
     "output_type": "execute_result"
    }
   ],
   "source": [
    "np.array([np.inf, np.NINF])"
   ]
  },
  {
   "cell_type": "code",
   "execution_count": 29,
   "id": "6b3b2605-359b-42f9-9be5-cfbd6c78a3c2",
   "metadata": {},
   "outputs": [
    {
     "name": "stderr",
     "output_type": "stream",
     "text": [
      "C:\\Users\\Asus\\AppData\\Local\\Temp\\ipykernel_10000\\2944993110.py:1: RuntimeWarning: divide by zero encountered in divide\n",
      "  np.array([-1,1]) / 0\n"
     ]
    },
    {
     "data": {
      "text/plain": [
       "array([-inf,  inf])"
      ]
     },
     "execution_count": 29,
     "metadata": {},
     "output_type": "execute_result"
    }
   ],
   "source": [
    "np.array([-1,1]) / 0"
   ]
  },
  {
   "cell_type": "code",
   "execution_count": 30,
   "id": "a7729333-bbde-4de9-a283-79c53e8f2e4b",
   "metadata": {},
   "outputs": [
    {
     "data": {
      "text/plain": [
       "inf"
      ]
     },
     "execution_count": 30,
     "metadata": {},
     "output_type": "execute_result"
    }
   ],
   "source": [
    "np.inf * 22"
   ]
  },
  {
   "cell_type": "code",
   "execution_count": 31,
   "id": "e0f3d66a-83ef-4813-a2f8-a9c91320161c",
   "metadata": {},
   "outputs": [
    {
     "data": {
      "text/plain": [
       "inf"
      ]
     },
     "execution_count": 31,
     "metadata": {},
     "output_type": "execute_result"
    }
   ],
   "source": [
    "np.inf + np.inf"
   ]
  },
  {
   "cell_type": "code",
   "execution_count": 32,
   "id": "8aeb661b-d46e-4809-a358-19a560dbbb4c",
   "metadata": {},
   "outputs": [
    {
     "data": {
      "text/plain": [
       "nan"
      ]
     },
     "execution_count": 32,
     "metadata": {},
     "output_type": "execute_result"
    }
   ],
   "source": [
    "np.inf - np.inf"
   ]
  },
  {
   "cell_type": "code",
   "execution_count": 34,
   "id": "d6c46f56-da3d-49c1-a4b6-e75451d7a61a",
   "metadata": {},
   "outputs": [
    {
     "data": {
      "text/plain": [
       "nan"
      ]
     },
     "execution_count": 34,
     "metadata": {},
     "output_type": "execute_result"
    }
   ],
   "source": [
    "np.inf / np.inf"
   ]
  },
  {
   "cell_type": "code",
   "execution_count": 35,
   "id": "5a8384a9-2312-4f4a-afb2-0a7dc16508ec",
   "metadata": {},
   "outputs": [
    {
     "data": {
      "text/plain": [
       "True"
      ]
     },
     "execution_count": 35,
     "metadata": {},
     "output_type": "execute_result"
    }
   ],
   "source": [
    "np.inf == np.inf"
   ]
  },
  {
   "cell_type": "code",
   "execution_count": 36,
   "id": "d60964b5-d408-4c1a-b67c-ea9796a43dc7",
   "metadata": {},
   "outputs": [
    {
     "data": {
      "text/plain": [
       "True"
      ]
     },
     "execution_count": 36,
     "metadata": {},
     "output_type": "execute_result"
    }
   ],
   "source": [
    "np.NINF == np.NINF"
   ]
  },
  {
   "cell_type": "code",
   "execution_count": 37,
   "id": "815c9f60-4329-4e60-b0bd-ff9cb6a204e0",
   "metadata": {},
   "outputs": [],
   "source": [
    "foo = np.array([4.4, np.inf, 1.0, np.NINF, 3.1, np.inf])"
   ]
  },
  {
   "cell_type": "code",
   "execution_count": 40,
   "id": "7ff34e39-d5b7-47c3-bff6-df27b6e9a09c",
   "metadata": {},
   "outputs": [
    {
     "data": {
      "text/plain": [
       "array([False,  True, False, False, False,  True])"
      ]
     },
     "execution_count": 40,
     "metadata": {},
     "output_type": "execute_result"
    }
   ],
   "source": [
    "foo == np.inf # returns true if the element is positive infinity"
   ]
  },
  {
   "cell_type": "code",
   "execution_count": 41,
   "id": "6bc0b6e2-3388-4e25-b236-73f72d219385",
   "metadata": {},
   "outputs": [
    {
     "data": {
      "text/plain": [
       "array([False, False, False,  True, False, False])"
      ]
     },
     "execution_count": 41,
     "metadata": {},
     "output_type": "execute_result"
    }
   ],
   "source": [
    "foo == np.NINF # returns true if the element is negative infinity"
   ]
  },
  {
   "cell_type": "code",
   "execution_count": 42,
   "id": "aab612af-bd8c-4357-a749-e91a69d0a946",
   "metadata": {},
   "outputs": [
    {
     "data": {
      "text/plain": [
       "array([False,  True, False, False, False,  True])"
      ]
     },
     "execution_count": 42,
     "metadata": {},
     "output_type": "execute_result"
    }
   ],
   "source": [
    "np.isposinf(foo) # returns true if the element is positive infinity"
   ]
  },
  {
   "cell_type": "code",
   "execution_count": 44,
   "id": "3fdd7d90-cedb-49ad-83a1-8f18aec7d117",
   "metadata": {},
   "outputs": [
    {
     "data": {
      "text/plain": [
       "array([False, False, False,  True, False, False])"
      ]
     },
     "execution_count": 44,
     "metadata": {},
     "output_type": "execute_result"
    }
   ],
   "source": [
    "np.isneginf(foo)  # returns true if the element is negative infinity"
   ]
  },
  {
   "cell_type": "code",
   "execution_count": null,
   "id": "46865e4a-fedf-4b6f-9af2-da8d8e5ad2ea",
   "metadata": {},
   "outputs": [],
   "source": []
  }
 ],
 "metadata": {
  "kernelspec": {
   "display_name": "Python 3 (ipykernel)",
   "language": "python",
   "name": "python3"
  },
  "language_info": {
   "codemirror_mode": {
    "name": "ipython",
    "version": 3
   },
   "file_extension": ".py",
   "mimetype": "text/x-python",
   "name": "python",
   "nbconvert_exporter": "python",
   "pygments_lexer": "ipython3",
   "version": "3.12.1"
  }
 },
 "nbformat": 4,
 "nbformat_minor": 5
}
