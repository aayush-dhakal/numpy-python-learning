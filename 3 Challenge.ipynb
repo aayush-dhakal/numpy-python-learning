{
 "cells": [
  {
   "cell_type": "markdown",
   "id": "7d21f382-0dd8-4056-8b50-5608d4838a02",
   "metadata": {},
   "source": [
    "# Setup for challenge 1"
   ]
  },
  {
   "cell_type": "markdown",
   "id": "ed67a473-facc-4c81-a232-179d6eeda1ea",
   "metadata": {},
   "source": [
    "With your high school reunion fast approaching, you decide to get in shape and lose some weight. You record your weight every day for five weeks starting on Monday. Given these daily weights, build an array with your average weight per weekend."
   ]
  },
  {
   "cell_type": "code",
   "execution_count": 2,
   "id": "2505c387-0f03-4403-9ad1-9beb26cff0ea",
   "metadata": {},
   "outputs": [],
   "source": [
    "import numpy as np"
   ]
  },
  {
   "cell_type": "code",
   "execution_count": 4,
   "id": "1a90f041-8fc6-4dd7-a284-5c65a261f4f4",
   "metadata": {},
   "outputs": [
    {
     "name": "stdout",
     "output_type": "stream",
     "text": [
      "[185.  184.8 184.6 184.4 184.2 184.  183.8 183.6 183.4 183.2 183.  182.8\n",
      " 182.6 182.4 182.2 182.  181.8 181.6 181.4 181.2 181.  180.8 180.6 180.4\n",
      " 180.2 180.  179.8 179.6 179.4 179.2 179.  178.8 178.6 178.4 178.2]\n"
     ]
    }
   ],
   "source": [
    "dailywts = 185 - np.arange(5*7) / 5\n",
    "print(dailywts)"
   ]
  },
  {
   "cell_type": "markdown",
   "id": "af511bfc-64fb-4ffd-b56c-ac4137cd6379",
   "metadata": {},
   "source": [
    "### Solution"
   ]
  },
  {
   "cell_type": "code",
   "execution_count": 5,
   "id": "172ee42f-0e7c-4d02-b5c9-a7d1d9dc2f76",
   "metadata": {},
   "outputs": [
    {
     "data": {
      "text/plain": [
       "array([ 0,  1,  2,  3,  4,  5,  6,  7,  8,  9, 10, 11, 12, 13, 14, 15, 16,\n",
       "       17, 18, 19, 20, 21, 22, 23, 24, 25, 26, 27, 28, 29, 30, 31, 32, 33,\n",
       "       34])"
      ]
     },
     "execution_count": 5,
     "metadata": {},
     "output_type": "execute_result"
    }
   ],
   "source": [
    " np.arange(5*7)"
   ]
  },
  {
   "cell_type": "code",
   "execution_count": 6,
   "id": "9fc31730-3dda-4bf4-af7f-959652b1a644",
   "metadata": {},
   "outputs": [
    {
     "data": {
      "text/plain": [
       "array([0. , 0.2, 0.4, 0.6, 0.8, 1. , 1.2, 1.4, 1.6, 1.8, 2. , 2.2, 2.4,\n",
       "       2.6, 2.8, 3. , 3.2, 3.4, 3.6, 3.8, 4. , 4.2, 4.4, 4.6, 4.8, 5. ,\n",
       "       5.2, 5.4, 5.6, 5.8, 6. , 6.2, 6.4, 6.6, 6.8])"
      ]
     },
     "execution_count": 6,
     "metadata": {},
     "output_type": "execute_result"
    }
   ],
   "source": [
    " np.arange(5*7) / 5"
   ]
  },
  {
   "cell_type": "code",
   "execution_count": 18,
   "id": "b977a4f5-1c53-4b4c-bb14-4b659950f545",
   "metadata": {},
   "outputs": [
    {
     "data": {
      "text/plain": [
       "array([183.9, 182.5, 181.1, 179.7, 178.3])"
      ]
     },
     "execution_count": 18,
     "metadata": {},
     "output_type": "execute_result"
    }
   ],
   "source": [
    "# solution for average per weekend ie average weight for Sunday and Saturday of every 5 weeks\n",
    "(dailywts[5::7] + dailywts[6::7] ) / 2\n",
    "\n",
    "# dailywts[5::7]: This selects every 7th element starting from index 5. This corresponds to the weights on Saturdays.\n",
    "\n",
    "# dailywts[6::7]: This selects every 7th element starting from index 6. This corresponds to the weights on Sundays.\n",
    "\n",
    "# (dailywts[5::7] + dailywts[6::7]) / 2: This adds the weights on Saturdays and Sundays element-wise and then divides the result by 2 to calculate the average weight for each weekend.\n",
    "\n",
    "# :7 skips to 7 indexes to go to next weekday"
   ]
  },
  {
   "cell_type": "code",
   "execution_count": 16,
   "id": "99a97abc-e890-4b68-a172-2e1daf22660e",
   "metadata": {},
   "outputs": [
    {
     "data": {
      "text/plain": [
       "[184.4, 183.0, 181.6, 180.2, 178.8]"
      ]
     },
     "execution_count": 16,
     "metadata": {},
     "output_type": "execute_result"
    }
   ],
   "source": [
    "# my solution for an average weight of every weekdays for 5 weeks\n",
    "res = []\n",
    "for i in range(5):\n",
    "    res.append(np.average(dailywts[i*7 : i*7 + 7]))\n",
    "res"
   ]
  },
  {
   "cell_type": "markdown",
   "id": "ee978039-ee8f-45c3-a20f-9b242b584c43",
   "metadata": {},
   "source": [
    "# Setup for challenge 2"
   ]
  },
  {
   "cell_type": "markdown",
   "id": "4b39112b-4655-4a80-95e4-d323748ccbc7",
   "metadata": {},
   "source": [
    "After binge watching the discovery channel, you ditch your job as a trial lawyer to become a gold miner. You decide to prospect five locations underneath a 7x7 grid of land. How much gold do you uncover at each location?"
   ]
  },
  {
   "cell_type": "code",
   "execution_count": 19,
   "id": "75887fa6-337b-4ae2-85b0-f3215f9f3058",
   "metadata": {},
   "outputs": [],
   "source": [
    "import numpy as np"
   ]
  },
  {
   "cell_type": "code",
   "execution_count": 20,
   "id": "541b9618-4843-48e5-a92f-b0b2c106b215",
   "metadata": {},
   "outputs": [
    {
     "name": "stdout",
     "output_type": "stream",
     "text": [
      "[[2 3 0 5 2 0 3]\n",
      " [8 8 0 7 1 5 3]\n",
      " [0 1 6 2 1 4 5]\n",
      " [4 0 8 9 9 8 7]\n",
      " [4 2 7 0 7 2 1]\n",
      " [9 8 9 2 5 0 8]\n",
      " [1 9 8 2 6 4 3]]\n"
     ]
    }
   ],
   "source": [
    "np.random.seed(5555)\n",
    "gold = np.random.randint(low = 0, high = 10, size = (7,7))\n",
    "print(gold)"
   ]
  },
  {
   "cell_type": "code",
   "execution_count": 21,
   "id": "d35381b6-278c-4521-94f9-a19ffb08cb27",
   "metadata": {},
   "outputs": [
    {
     "name": "stdout",
     "output_type": "stream",
     "text": [
      "[[0 4]\n",
      " [2 2]\n",
      " [2 3]\n",
      " [5 1]\n",
      " [6 3]]\n"
     ]
    }
   ],
   "source": [
    "locs = np.array([\n",
    "    [0,4],\n",
    "    [2,2],\n",
    "    [2,3],\n",
    "    [5,1],\n",
    "    [6,3]\n",
    "])\n",
    "print(locs)"
   ]
  },
  {
   "cell_type": "markdown",
   "id": "35c134e2-919b-4d80-b565-98b0815cfbf2",
   "metadata": {},
   "source": [
    "### Solutution"
   ]
  },
  {
   "cell_type": "code",
   "execution_count": 31,
   "id": "a2310650-8671-43bb-804a-2ef57a7264e5",
   "metadata": {},
   "outputs": [
    {
     "name": "stdout",
     "output_type": "stream",
     "text": [
      "[2, 6, 2, 8, 2]\n"
     ]
    }
   ],
   "source": [
    "# my solution\n",
    "res = []\n",
    "for row in locs:\n",
    "    # print(gold[row[0]][row[1]])\n",
    "    res.append(gold[row[0]][row[1]])\n",
    "\n",
    "print(res)"
   ]
  },
  {
   "cell_type": "code",
   "execution_count": 44,
   "id": "87c95af4-6e6e-4736-9f12-9e279acc958b",
   "metadata": {},
   "outputs": [
    {
     "data": {
      "text/plain": [
       "array([2, 6, 2, 8, 2])"
      ]
     },
     "execution_count": 44,
     "metadata": {},
     "output_type": "execute_result"
    }
   ],
   "source": [
    "# author solution\n",
    "gold[locs[: , 0], locs[:, 1]]\n",
    "\n",
    "# locs[:, 0] provides the row indices.\n",
    "# locs[:, 1] provides the column indices.\n",
    "# So, gold[locs[:, 0], locs[:, 1]] extracts the values from the gold array at the specified locations."
   ]
  },
  {
   "cell_type": "code",
   "execution_count": 35,
   "id": "5aa20f87-23f1-4395-90c4-a7989333a690",
   "metadata": {},
   "outputs": [],
   "source": [
    "# explanation:"
   ]
  },
  {
   "cell_type": "code",
   "execution_count": 36,
   "id": "22694a52-ae10-48fe-96c3-05fda5c90833",
   "metadata": {},
   "outputs": [
    {
     "data": {
      "text/plain": [
       "2"
      ]
     },
     "execution_count": 36,
     "metadata": {},
     "output_type": "execute_result"
    }
   ],
   "source": [
    "gold[0,4]"
   ]
  },
  {
   "cell_type": "code",
   "execution_count": 37,
   "id": "e100be50-35fc-4bd5-a7b1-ce34532b8be1",
   "metadata": {},
   "outputs": [
    {
     "data": {
      "text/plain": [
       "6"
      ]
     },
     "execution_count": 37,
     "metadata": {},
     "output_type": "execute_result"
    }
   ],
   "source": [
    "gold[2,2]"
   ]
  },
  {
   "cell_type": "code",
   "execution_count": 45,
   "id": "daaf61ef-92f3-46ba-8266-e91bfb910efc",
   "metadata": {},
   "outputs": [
    {
     "data": {
      "text/plain": [
       "array([2, 6])"
      ]
     },
     "execution_count": 45,
     "metadata": {},
     "output_type": "execute_result"
    }
   ],
   "source": [
    "# for constructing answer of array:\n",
    "gold[[0,2],[4,2]] # we pass the list of rows indices and then list of columns indices to get the values in one scoop\n",
    "# to automate the rows and columns generation we can use split as gold[locs[: , 0], locs[:, 1]]"
   ]
  },
  {
   "cell_type": "code",
   "execution_count": 46,
   "id": "d1b07b36-4dad-47b2-88af-ad4558a43ad7",
   "metadata": {},
   "outputs": [],
   "source": [
    "# Note:\n",
    "# When you use gold[[0, 2], [4, 2]], it does not correspond to gold[0, 4] and gold[2, 2]. \n",
    "# Instead, it selects the elements at the specified pairs of indices. In this case, it is selecting gold[0, 4] and gold[2, 2]."
   ]
  },
  {
   "cell_type": "markdown",
   "id": "4d0713e8-2aa9-43b5-bb64-57a792f117bd",
   "metadata": {},
   "source": [
    "# Setup for challenge 3"
   ]
  },
  {
   "cell_type": "markdown",
   "id": "7a766063-7178-4e50-b370-762e0c6e93da",
   "metadata": {},
   "source": [
    "You decide to invest in a series of billboards along interstate 10 to advertise your stylish new chicken restaurant, Chic-fil-A. You buy three billboards evenly spaced starting on mile marker 17 and ending on mile marker 28. Then you buy another three billboards evenly spaced starting on mile marker 32 and ending on mile marker 36. In order, from mile marker 17 to 36, your billboards display these ads: A, B, C, C, B, A. Determine how far each \"C\" ad is from your restaurant which is located at mile marker 30."
   ]
  },
  {
   "cell_type": "markdown",
   "id": "1a9c2ee9-9abb-44f7-beae-2826b91142d9",
   "metadata": {},
   "source": [
    "### Solution"
   ]
  },
  {
   "cell_type": "code",
   "execution_count": 1,
   "id": "e1d22eae-7841-46bd-8941-1e0c8b79229e",
   "metadata": {},
   "outputs": [],
   "source": [
    "import numpy as np"
   ]
  },
  {
   "cell_type": "code",
   "execution_count": 8,
   "id": "5edf42a9-41db-479c-81bf-c2b671b9aea3",
   "metadata": {},
   "outputs": [
    {
     "data": {
      "text/plain": [
       "array([2., 2.])"
      ]
     },
     "execution_count": 8,
     "metadata": {},
     "output_type": "execute_result"
    }
   ],
   "source": [
    "dists = np.abs(np.linspace([17,32], [28,36], num = 3, axis = 1) - 30)\n",
    "dists[[0,1], [2,0]] # these are indices for ad C"
   ]
  },
  {
   "cell_type": "markdown",
   "id": "a8c3d879-fe1b-4258-87cd-acb978635452",
   "metadata": {},
   "source": [
    "### Explanation"
   ]
  },
  {
   "cell_type": "code",
   "execution_count": 5,
   "id": "1f7740d4-2c94-4f81-b065-7e747dac89d0",
   "metadata": {},
   "outputs": [
    {
     "data": {
      "text/plain": [
       "array([ 0. ,  2.5,  5. ,  7.5, 10. ])"
      ]
     },
     "execution_count": 5,
     "metadata": {},
     "output_type": "execute_result"
    }
   ],
   "source": [
    "# linspace Return evenly spaced numbers over a specified interval.\n",
    "np.linspace(start=0,stop=10,num=5) # generates an array with 5 elements with starting number as 0 and end as 10 and in-between elements to be an equal gap of others. Here the proceeding element is 2.5 value more"
   ]
  },
  {
   "cell_type": "code",
   "execution_count": 6,
   "id": "a1008f54-4468-4884-9cf0-ec98ad9f2910",
   "metadata": {},
   "outputs": [
    {
     "data": {
      "text/plain": [
       "array([[ 0. ,  5. ],\n",
       "       [ 2.5,  7.5],\n",
       "       [ 5. , 10. ],\n",
       "       [ 7.5, 12.5],\n",
       "       [10. , 15. ]])"
      ]
     },
     "execution_count": 6,
     "metadata": {},
     "output_type": "execute_result"
    }
   ],
   "source": [
    "np.linspace(start=[0,5],stop=[10,15],num=5) # generates an array with 5 sub array elements with starting value as 0,5 and end as 10,15 and inbetween elements to be equal gap of others. Here the proceeding element is 2.5 value more for both row and column"
   ]
  },
  {
   "cell_type": "code",
   "execution_count": 7,
   "id": "7f615e68-2ee1-4b49-aff8-175b5412efe7",
   "metadata": {},
   "outputs": [
    {
     "data": {
      "text/plain": [
       "array([[ 0. ,  2.5,  5. ,  7.5, 10. ],\n",
       "       [ 5. ,  7.5, 10. , 12.5, 15. ]])"
      ]
     },
     "execution_count": 7,
     "metadata": {},
     "output_type": "execute_result"
    }
   ],
   "source": [
    "np.linspace(start=[0,5],stop=[10,15],num=5, axis=1)"
   ]
  },
  {
   "cell_type": "code",
   "execution_count": null,
   "id": "4ceea1c4-13f6-4011-ab66-bf486a99716f",
   "metadata": {},
   "outputs": [],
   "source": []
  }
 ],
 "metadata": {
  "kernelspec": {
   "display_name": "Python 3 (ipykernel)",
   "language": "python",
   "name": "python3"
  },
  "language_info": {
   "codemirror_mode": {
    "name": "ipython",
    "version": 3
   },
   "file_extension": ".py",
   "mimetype": "text/x-python",
   "name": "python",
   "nbconvert_exporter": "python",
   "pygments_lexer": "ipython3",
   "version": "3.12.1"
  }
 },
 "nbformat": 4,
 "nbformat_minor": 5
}
