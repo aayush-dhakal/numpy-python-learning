{
 "cells": [
  {
   "cell_type": "markdown",
   "id": "518e4d49-0dd9-420d-978e-ee534e04c505",
   "metadata": {},
   "source": [
    "# Challenge 1"
   ]
  },
  {
   "cell_type": "markdown",
   "id": "333061e9-68d7-49f1-a945-c2efdbb29d26",
   "metadata": {},
   "source": [
    "You're a relationship scientist and you've developed a questionaire that determines a person's love score, a real-valued number between 0 and\n",
    "100. Your theory is that two people with similar love scores should make a good match. Given the love scores for 10 different people, create a\n",
    "matrix where (i,j) gives the absolute difference of the love scores for person i and person j."
   ]
  },
  {
   "cell_type": "code",
   "execution_count": 1,
   "id": "3f7cd34d-abbb-4375-a97c-0201c07a1a55",
   "metadata": {},
   "outputs": [],
   "source": [
    "import numpy as np"
   ]
  },
  {
   "cell_type": "code",
   "execution_count": 2,
   "id": "76215fb4-ee89-4de7-be16-93cebbc619d3",
   "metadata": {},
   "outputs": [
    {
     "name": "stdout",
     "output_type": "stream",
     "text": [
      "[ 9.5  53.58 91.77 98.15 84.88 74.61 40.94 56.49  8.39 64.69]\n"
     ]
    }
   ],
   "source": [
    "generator = np.random.default_rng(1010)\n",
    "love_scores = np.round(generator.uniform(low=0, high=100, size=10), 2)\n",
    "\n",
    "print(love_scores)"
   ]
  },
  {
   "cell_type": "markdown",
   "id": "12cbb981-9a83-4b92-85d3-2cc08d00bd52",
   "metadata": {},
   "source": [
    "## Solution"
   ]
  },
  {
   "cell_type": "code",
   "execution_count": 5,
   "id": "e3a19821-7394-4958-a5e9-214af0e5d4a7",
   "metadata": {},
   "outputs": [
    {
     "data": {
      "text/plain": [
       "array([[ 0.  , 44.08, 82.27, 88.65, 75.38, 65.11, 31.44, 46.99,  1.11, 55.19],\n",
       "       [44.08,  0.  , 38.19, 44.57, 31.3 , 21.03, 12.64,  2.91, 45.19, 11.11],\n",
       "       [82.27, 38.19,  0.  ,  6.38,  6.89, 17.16, 50.83, 35.28, 83.38, 27.08],\n",
       "       [88.65, 44.57,  6.38,  0.  , 13.27, 23.54, 57.21, 41.66, 89.76, 33.46],\n",
       "       [75.38, 31.3 ,  6.89, 13.27,  0.  , 10.27, 43.94, 28.39, 76.49, 20.19],\n",
       "       [65.11, 21.03, 17.16, 23.54, 10.27,  0.  , 33.67, 18.12, 66.22,  9.92],\n",
       "       [31.44, 12.64, 50.83, 57.21, 43.94, 33.67,  0.  , 15.55, 32.55, 23.75],\n",
       "       [46.99,  2.91, 35.28, 41.66, 28.39, 18.12, 15.55,  0.  , 48.1 ,  8.2 ],\n",
       "       [ 1.11, 45.19, 83.38, 89.76, 76.49, 66.22, 32.55, 48.1 ,  0.  , 56.3 ],\n",
       "       [55.19, 11.11, 27.08, 33.46, 20.19,  9.92, 23.75,  8.2 , 56.3 ,  0.  ]])"
      ]
     },
     "execution_count": 5,
     "metadata": {},
     "output_type": "execute_result"
    }
   ],
   "source": [
    "np.set_printoptions(linewidth=999) # means donot wrap the line of text unless it exceed 999 characters. By default it wraps at 75 characters\n",
    "np.abs(love_scores[:, None] - love_scores[None, :])"
   ]
  },
  {
   "cell_type": "markdown",
   "id": "017beb6b-0298-4906-9b10-18f19a275bbe",
   "metadata": {},
   "source": [
    "# Challenge 2"
   ]
  },
  {
   "cell_type": "markdown",
   "id": "705aa6c2-569b-4b55-9c82-7974a0ca7ee0",
   "metadata": {},
   "source": [
    "You're a vindictive, hateful professor and one of your pet peeves is when students rush through their exams. To teach them a lesson, you decide\n",
    "to give 0s to the first three students who score less than sixty, in the order they turned in their exams. So, given a 1d array of integers, identify\n",
    "the first three values less than sixty and replace them with zero."
   ]
  },
  {
   "cell_type": "code",
   "execution_count": 4,
   "id": "9f6d6d9c-f02c-4158-a3d6-dc65a0b0c964",
   "metadata": {},
   "outputs": [],
   "source": [
    "import numpy as np"
   ]
  },
  {
   "cell_type": "code",
   "execution_count": 8,
   "id": "b0dd378b-46ee-494f-94de-32e1eeb4b422",
   "metadata": {},
   "outputs": [
    {
     "name": "stdout",
     "output_type": "stream",
     "text": [
      "[68. 36. 76. 57. 56. 54. 63. 64. 36. 88. 80. 82. 84. 76. 42.]\n"
     ]
    }
   ],
   "source": [
    "generator = np.random.default_rng(80085)\n",
    "scores =  np.round(generator.uniform(low=30, high=100, size=15))\n",
    "\n",
    "print(scores)"
   ]
  },
  {
   "cell_type": "code",
   "execution_count": 6,
   "id": "477c1158-b1d2-4690-898f-2ebb59e342cf",
   "metadata": {},
   "outputs": [
    {
     "name": "stdout",
     "output_type": "stream",
     "text": [
      "[68.  0. 76.  0.  0. 54. 63. 64. 36. 88. 80. 82. 84. 76. 42.]\n"
     ]
    }
   ],
   "source": [
    "scores[(scores < 60).nonzero()[0][:3]] = 0\n",
    "print(scores)"
   ]
  },
  {
   "cell_type": "markdown",
   "id": "ce7389ba",
   "metadata": {},
   "source": [
    "### Explanation"
   ]
  },
  {
   "cell_type": "code",
   "execution_count": 9,
   "id": "02cdea21",
   "metadata": {},
   "outputs": [
    {
     "data": {
      "text/plain": [
       "array([False,  True, False,  True,  True,  True, False, False,  True,\n",
       "       False, False, False, False, False,  True])"
      ]
     },
     "execution_count": 9,
     "metadata": {},
     "output_type": "execute_result"
    }
   ],
   "source": [
    "# make sure to run the original scores generator cell first as out solution has override it\n",
    "scores < 60"
   ]
  },
  {
   "cell_type": "code",
   "execution_count": 12,
   "id": "250d5d12",
   "metadata": {},
   "outputs": [
    {
     "data": {
      "text/plain": [
       "(array([1, 2], dtype=int64),)"
      ]
     },
     "execution_count": 12,
     "metadata": {},
     "output_type": "execute_result"
    }
   ],
   "source": [
    "# we are interested in false value as they are the ones with score less than 60\n",
    "# the integer representation of false is 0\n",
    "# nonzero returns the indices of the elements that are non-zero\n",
    "np.array([0,3,4,0]).nonzero()"
   ]
  },
  {
   "cell_type": "code",
   "execution_count": 16,
   "id": "dfacb1ce",
   "metadata": {},
   "outputs": [
    {
     "data": {
      "text/plain": [
       "(array([ 1,  3,  4,  5,  8, 14], dtype=int64),)"
      ]
     },
     "execution_count": 16,
     "metadata": {},
     "output_type": "execute_result"
    }
   ],
   "source": [
    "(scores < 60).nonzero() # return the tuple with array and empty nothing"
   ]
  },
  {
   "cell_type": "code",
   "execution_count": 15,
   "id": "8736bf4f",
   "metadata": {},
   "outputs": [
    {
     "data": {
      "text/plain": [
       "array([ 1,  3,  4,  5,  8, 14], dtype=int64)"
      ]
     },
     "execution_count": 15,
     "metadata": {},
     "output_type": "execute_result"
    }
   ],
   "source": [
    "# get the array only\n",
    "(scores < 60).nonzero()[0]"
   ]
  },
  {
   "cell_type": "code",
   "execution_count": 18,
   "id": "1bff94cf",
   "metadata": {},
   "outputs": [
    {
     "data": {
      "text/plain": [
       "array([1, 3, 4], dtype=int64)"
      ]
     },
     "execution_count": 18,
     "metadata": {},
     "output_type": "execute_result"
    }
   ],
   "source": [
    "# get the first three datas indices with :3\n",
    "(scores < 60).nonzero()[0][:3]"
   ]
  },
  {
   "cell_type": "code",
   "execution_count": 20,
   "id": "edca398c",
   "metadata": {},
   "outputs": [
    {
     "name": "stdout",
     "output_type": "stream",
     "text": [
      "[68.  0. 76.  0.  0. 54. 63. 64. 36. 88. 80. 82. 84. 76. 42.]\n"
     ]
    }
   ],
   "source": [
    "# now assign the first three less than 60 value to 0\n",
    "scores[(scores < 60).nonzero()[0][:3]] = 0\n",
    "print(scores)\n"
   ]
  },
  {
   "cell_type": "markdown",
   "id": "8d40f7c3",
   "metadata": {},
   "source": [
    "# Challenge 3"
   ]
  },
  {
   "cell_type": "markdown",
   "id": "91e03be0",
   "metadata": {},
   "source": [
    "Eager to make your mark on the PTA, you decide the best way to hide eggs for for the upcoming easter egg hunt is to use NumPy. You\n",
    "represent the field as a 10x10 array of Os. Now your goal is to insert twenty random normal values at random (non repeating) locations in the\n",
    "grid that tell you how much candy to hide at each spot and where."
   ]
  },
  {
   "cell_type": "code",
   "execution_count": 21,
   "id": "7d5b5a23",
   "metadata": {},
   "outputs": [],
   "source": [
    "import numpy as np"
   ]
  },
  {
   "cell_type": "code",
   "execution_count": 38,
   "id": "8506378f",
   "metadata": {},
   "outputs": [
    {
     "name": "stdout",
     "output_type": "stream",
     "text": [
      "[[0. 0. 0. 0. 0. 0. 0. 0. 0. 0.]\n",
      " [0. 0. 0. 0. 0. 0. 0. 0. 0. 0.]\n",
      " [0. 0. 0. 0. 0. 0. 0. 0. 0. 0.]\n",
      " [0. 0. 0. 0. 0. 0. 0. 0. 0. 0.]\n",
      " [0. 0. 0. 0. 0. 0. 0. 0. 0. 0.]\n",
      " [0. 0. 0. 0. 0. 0. 0. 0. 0. 0.]\n",
      " [0. 0. 0. 0. 0. 0. 0. 0. 0. 0.]\n",
      " [0. 0. 0. 0. 0. 0. 0. 0. 0. 0.]\n",
      " [0. 0. 0. 0. 0. 0. 0. 0. 0. 0.]\n",
      " [0. 0. 0. 0. 0. 0. 0. 0. 0. 0.]]\n"
     ]
    }
   ],
   "source": [
    "field = np.zeros(shape = (10, 10))\n",
    "print(field)"
   ]
  },
  {
   "cell_type": "markdown",
   "id": "7412bc43",
   "metadata": {},
   "source": [
    "### Solution"
   ]
  },
  {
   "cell_type": "code",
   "execution_count": 27,
   "id": "19e9c069",
   "metadata": {},
   "outputs": [
    {
     "name": "stdout",
     "output_type": "stream",
     "text": [
      "[[ 0.52  0.    0.   -1.48  0.    2.91  0.    0.    0.    0.  ]\n",
      " [ 0.   -1.27  0.    0.    0.   -1.6   0.    1.73  0.    0.  ]\n",
      " [ 0.    0.    0.    0.    0.43  0.    0.    0.    0.    0.  ]\n",
      " [ 0.    0.    0.    0.    0.    0.34  0.    0.    0.   -1.67]\n",
      " [ 0.    0.86  0.74  0.    0.    0.    1.32  0.    0.52  0.  ]\n",
      " [ 0.   -1.    0.    0.    0.    0.15  0.    0.    0.    0.  ]\n",
      " [ 0.   -0.51  0.   -0.86  0.    0.    0.    0.    0.    0.  ]\n",
      " [ 0.    0.    0.    0.    0.    0.    0.    0.    0.    0.  ]\n",
      " [ 0.    0.    0.    0.   -2.16  0.    0.95  0.    0.    0.  ]\n",
      " [ 0.    0.    0.    0.    0.    0.    0.    0.    0.    0.06]]\n"
     ]
    }
   ],
   "source": [
    "np.set_printoptions(linewidth=999)\n",
    "generator = np.random.default_rng(1234)\n",
    "vals = np.round(generator.normal(size=20), 2)\n",
    "locs = generator.choice(field.size, len(vals), replace=False)\n",
    "field.ravel()[locs] = vals\n",
    "print(field)"
   ]
  },
  {
   "cell_type": "markdown",
   "id": "83a57915",
   "metadata": {},
   "source": [
    "### Explanation"
   ]
  },
  {
   "cell_type": "code",
   "execution_count": 31,
   "id": "fd33eeff",
   "metadata": {},
   "outputs": [
    {
     "data": {
      "text/plain": [
       "array([-1.6 ,  0.06,  0.74,  0.15,  0.86,  2.91, -1.48,  0.95, -1.67,  0.34, -0.51,  1.32, -0.86,  0.52, -1.27, -2.16,  0.43,  1.73,  0.52, -1.  ])"
      ]
     },
     "execution_count": 31,
     "metadata": {},
     "output_type": "execute_result"
    }
   ],
   "source": [
    "# generate 20 normal values\n",
    "generator = np.random.default_rng(1234)\n",
    "np.round(generator.normal(size=20), 2)"
   ]
  },
  {
   "cell_type": "code",
   "execution_count": 32,
   "id": "8ae6e644",
   "metadata": {},
   "outputs": [
    {
     "name": "stdout",
     "output_type": "stream",
     "text": [
      "[-1.6   0.06  0.74  0.15  0.86  2.91 -1.48  0.95 -1.67  0.34 -0.51  1.32 -0.86  0.52 -1.27 -2.16  0.43  1.73  0.52 -1.  ]\n"
     ]
    }
   ],
   "source": [
    "# round random values to 2 digits\n",
    "generator = np.random.default_rng(1234)\n",
    "vals = np.round(generator.normal(size=20), 2)\n",
    "print(vals)"
   ]
  },
  {
   "cell_type": "code",
   "execution_count": 36,
   "id": "72b146cf",
   "metadata": {},
   "outputs": [
    {
     "name": "stdout",
     "output_type": "stream",
     "text": [
      "[39  3 12 83 96 57 99 47 77 85 23 74 29  6 18  1 95 11 89 73]\n"
     ]
    }
   ],
   "source": [
    "# field size is 100 and vals length is 10\n",
    "# here generating the 20 random array position from 0 to 99\n",
    "locs = generator.choice(field.size, len(vals), replace=False)\n",
    "print(locs)"
   ]
  },
  {
   "cell_type": "code",
   "execution_count": 39,
   "id": "72eb534c",
   "metadata": {},
   "outputs": [
    {
     "data": {
      "text/plain": [
       "array([0., 0., 0., 0., 0., 0., 0., 0., 0., 0., 0., 0., 0., 0., 0., 0., 0., 0., 0., 0., 0., 0., 0., 0., 0., 0., 0., 0., 0., 0., 0., 0., 0., 0., 0., 0., 0., 0., 0., 0., 0., 0., 0., 0., 0., 0., 0., 0., 0., 0., 0., 0., 0., 0., 0., 0., 0., 0., 0., 0., 0., 0., 0., 0., 0., 0., 0., 0., 0., 0., 0., 0., 0., 0., 0., 0., 0., 0., 0., 0., 0., 0., 0., 0., 0., 0., 0., 0., 0., 0., 0., 0., 0., 0., 0., 0., 0., 0., 0., 0.])"
      ]
     },
     "execution_count": 39,
     "metadata": {},
     "output_type": "execute_result"
    }
   ],
   "source": [
    "# ravel method flatens the array to 1 dimensional\n",
    "field.ravel()"
   ]
  },
  {
   "cell_type": "code",
   "execution_count": 40,
   "id": "7e77053a",
   "metadata": {},
   "outputs": [
    {
     "name": "stdout",
     "output_type": "stream",
     "text": [
      "[[0. 0. 0. 0. 0. 0. 0. 0. 0. 0.]\n",
      " [0. 0. 0. 0. 0. 0. 0. 0. 0. 0.]\n",
      " [0. 0. 0. 0. 0. 0. 0. 0. 0. 0.]\n",
      " [0. 0. 0. 0. 0. 0. 0. 0. 0. 0.]\n",
      " [0. 0. 0. 0. 0. 0. 0. 0. 0. 0.]\n",
      " [0. 0. 0. 0. 0. 0. 0. 0. 0. 0.]\n",
      " [0. 0. 0. 0. 0. 0. 0. 0. 0. 0.]\n",
      " [0. 0. 0. 0. 0. 0. 0. 0. 0. 0.]\n",
      " [0. 0. 0. 0. 0. 0. 0. 0. 0. 0.]\n",
      " [0. 0. 0. 0. 0. 0. 0. 0. 0. 0.]]\n"
     ]
    }
   ],
   "source": [
    "# but the flatening is one for easy view coz in reality it still remains in high dimensional\n",
    "print(field)"
   ]
  },
  {
   "cell_type": "code",
   "execution_count": 41,
   "id": "ee0e2a9e",
   "metadata": {},
   "outputs": [
    {
     "name": "stdout",
     "output_type": "stream",
     "text": [
      "[[ 0.   -2.16  0.    0.06  0.    0.    0.52  0.    0.    0.  ]\n",
      " [ 0.    1.73  0.74  0.    0.    0.    0.    0.   -1.27  0.  ]\n",
      " [ 0.    0.    0.   -0.51  0.    0.    0.    0.    0.   -0.86]\n",
      " [ 0.    0.    0.    0.    0.    0.    0.    0.    0.   -1.6 ]\n",
      " [ 0.    0.    0.    0.    0.    0.    0.    0.95  0.    0.  ]\n",
      " [ 0.    0.    0.    0.    0.    0.    0.    2.91  0.    0.  ]\n",
      " [ 0.    0.    0.    0.    0.    0.    0.    0.    0.    0.  ]\n",
      " [ 0.    0.    0.   -1.    1.32  0.    0.   -1.67  0.    0.  ]\n",
      " [ 0.    0.    0.    0.15  0.    0.34  0.    0.    0.    0.52]\n",
      " [ 0.    0.    0.    0.    0.    0.43  0.86  0.    0.   -1.48]]\n"
     ]
    }
   ],
   "source": [
    "# after the flatening we just map the field array with the randomly generated 20 indices postion\n",
    "field.ravel()[locs] = vals\n",
    "print(field)"
   ]
  },
  {
   "cell_type": "code",
   "execution_count": null,
   "id": "dd8ccdfd",
   "metadata": {},
   "outputs": [],
   "source": []
  }
 ],
 "metadata": {
  "kernelspec": {
   "display_name": "Python 3 (ipykernel)",
   "language": "python",
   "name": "python3"
  },
  "language_info": {
   "codemirror_mode": {
    "name": "ipython",
    "version": 3
   },
   "file_extension": ".py",
   "mimetype": "text/x-python",
   "name": "python",
   "nbconvert_exporter": "python",
   "pygments_lexer": "ipython3",
   "version": "3.12.1"
  }
 },
 "nbformat": 4,
 "nbformat_minor": 5
}
