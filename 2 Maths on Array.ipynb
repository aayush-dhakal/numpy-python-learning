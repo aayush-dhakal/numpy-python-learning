{
 "cells": [
  {
   "cell_type": "code",
   "execution_count": 1,
   "id": "449a29d2-7daf-465e-925b-4315114c9781",
   "metadata": {},
   "outputs": [],
   "source": [
    "import numpy as np"
   ]
  },
  {
   "cell_type": "code",
   "execution_count": 3,
   "id": "591f7f2e-9319-4a1a-9635-6e5b868e1d8d",
   "metadata": {},
   "outputs": [],
   "source": [
    "arr1 = np.array([[4,3], [1,0]])\n",
    "arr2 = np.array([[1,2], [3,4]])"
   ]
  },
  {
   "cell_type": "code",
   "execution_count": 4,
   "id": "1e3526d8-195a-4ddf-8e3e-214b19403d16",
   "metadata": {},
   "outputs": [
    {
     "name": "stdout",
     "output_type": "stream",
     "text": [
      "[[4 3]\n",
      " [1 0]]\n"
     ]
    }
   ],
   "source": [
    "print(arr1)"
   ]
  },
  {
   "cell_type": "code",
   "execution_count": 5,
   "id": "911a20fc-6f61-497b-bc39-32d51df55a68",
   "metadata": {},
   "outputs": [
    {
     "data": {
      "text/plain": [
       "array([[1, 2],\n",
       "       [3, 4]])"
      ]
     },
     "execution_count": 5,
     "metadata": {},
     "output_type": "execute_result"
    }
   ],
   "source": [
    "arr2"
   ]
  },
  {
   "cell_type": "code",
   "execution_count": 8,
   "id": "5db68c38-df73-4f03-abde-655ed1d5d1e4",
   "metadata": {},
   "outputs": [
    {
     "data": {
      "text/plain": [
       "array([[5, 5],\n",
       "       [4, 4]])"
      ]
     },
     "execution_count": 8,
     "metadata": {},
     "output_type": "execute_result"
    }
   ],
   "source": [
    "arr1 + arr2 # adds the corresponding indices values"
   ]
  },
  {
   "cell_type": "code",
   "execution_count": 9,
   "id": "41dec579-4bbe-4723-8312-d4865133b5f2",
   "metadata": {},
   "outputs": [
    {
     "data": {
      "text/plain": [
       "array([[4, 6],\n",
       "       [3, 0]])"
      ]
     },
     "execution_count": 9,
     "metadata": {},
     "output_type": "execute_result"
    }
   ],
   "source": [
    "# arthemtic multiplication\n",
    "arr1 * arr2"
   ]
  },
  {
   "cell_type": "code",
   "execution_count": 10,
   "id": "49cdaf8e-7605-47ff-8788-af96b24d4c11",
   "metadata": {},
   "outputs": [
    {
     "data": {
      "text/plain": [
       "array([[13, 20],\n",
       "       [ 1,  2]])"
      ]
     },
     "execution_count": 10,
     "metadata": {},
     "output_type": "execute_result"
    }
   ],
   "source": [
    "# for matrix multiplication\n",
    "arr1 @ arr2"
   ]
  },
  {
   "cell_type": "code",
   "execution_count": 11,
   "id": "82c9cc25-b910-4669-9f4e-c89e885b130c",
   "metadata": {},
   "outputs": [
    {
     "data": {
      "text/plain": [
       "array([[9, 8],\n",
       "       [6, 5]])"
      ]
     },
     "execution_count": 11,
     "metadata": {},
     "output_type": "execute_result"
    }
   ],
   "source": [
    "# add 5 to all elements of an array\n",
    "arr1 + 5"
   ]
  },
  {
   "cell_type": "code",
   "execution_count": null,
   "id": "482ceeb3-ea23-4afc-a2f2-d1729a554d29",
   "metadata": {},
   "outputs": [],
   "source": []
  }
 ],
 "metadata": {
  "kernelspec": {
   "display_name": "Python 3 (ipykernel)",
   "language": "python",
   "name": "python3"
  },
  "language_info": {
   "codemirror_mode": {
    "name": "ipython",
    "version": 3
   },
   "file_extension": ".py",
   "mimetype": "text/x-python",
   "name": "python",
   "nbconvert_exporter": "python",
   "pygments_lexer": "ipython3",
   "version": "3.12.1"
  }
 },
 "nbformat": 4,
 "nbformat_minor": 5
}
