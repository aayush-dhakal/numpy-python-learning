{
 "cells": [
  {
   "cell_type": "code",
   "execution_count": 1,
   "id": "82aa6985-d635-477b-b3b2-c1cf9fb05803",
   "metadata": {},
   "outputs": [],
   "source": [
    "import numpy as np"
   ]
  },
  {
   "cell_type": "code",
   "execution_count": 2,
   "id": "8ebd68a2-59df-470a-bdd8-d7c2b7f6e477",
   "metadata": {},
   "outputs": [],
   "source": [
    "arr = np.array([10,20,30,40,50])"
   ]
  },
  {
   "cell_type": "code",
   "execution_count": 3,
   "id": "2c21af61-4923-40ec-970e-2ed11af721f6",
   "metadata": {},
   "outputs": [
    {
     "name": "stdout",
     "output_type": "stream",
     "text": [
      "[10 20 30 40 50]\n"
     ]
    }
   ],
   "source": [
    "print(arr)"
   ]
  },
  {
   "cell_type": "code",
   "execution_count": 4,
   "id": "c6e847c8-b643-4e2f-91a4-39071ddbaaff",
   "metadata": {},
   "outputs": [
    {
     "data": {
      "text/plain": [
       "1"
      ]
     },
     "execution_count": 4,
     "metadata": {},
     "output_type": "execute_result"
    }
   ],
   "source": [
    "# get the dimension of array\n",
    "arr.ndim"
   ]
  },
  {
   "cell_type": "code",
   "execution_count": 5,
   "id": "9ebf0f0e-e30a-4268-959a-5127517be2ac",
   "metadata": {},
   "outputs": [
    {
     "data": {
      "text/plain": [
       "(5,)"
      ]
     },
     "execution_count": 5,
     "metadata": {},
     "output_type": "execute_result"
    }
   ],
   "source": [
    "arr.shape"
   ]
  },
  {
   "cell_type": "code",
   "execution_count": 7,
   "id": "30b6487a-e23d-4479-a568-93be41cbed2b",
   "metadata": {},
   "outputs": [],
   "source": [
    "arr_2d = np.array([\n",
    "    [10,20,30,40,50],\n",
    "    [100,200,300,400,500]\n",
    "])"
   ]
  },
  {
   "cell_type": "code",
   "execution_count": 8,
   "id": "2734e2e6-89d2-46a3-a1c4-9d9487fe06b1",
   "metadata": {},
   "outputs": [
    {
     "name": "stdout",
     "output_type": "stream",
     "text": [
      "[[ 10  20  30  40  50]\n",
      " [100 200 300 400 500]]\n"
     ]
    }
   ],
   "source": [
    "print(arr_2d)"
   ]
  },
  {
   "cell_type": "code",
   "execution_count": 11,
   "id": "4e5c254e-1f06-4c07-9890-2b1ca0e33c96",
   "metadata": {},
   "outputs": [
    {
     "data": {
      "text/plain": [
       "(2, 5)"
      ]
     },
     "execution_count": 11,
     "metadata": {},
     "output_type": "execute_result"
    }
   ],
   "source": [
    "arr_2d.shape # says there are 2 rows and 5 columns"
   ]
  },
  {
   "cell_type": "code",
   "execution_count": 13,
   "id": "060bbb72-2ace-47fd-a102-02f95294cd98",
   "metadata": {},
   "outputs": [
    {
     "data": {
      "text/plain": [
       "2"
      ]
     },
     "execution_count": 13,
     "metadata": {},
     "output_type": "execute_result"
    }
   ],
   "source": [
    "len(arr_2d) # will give 2 because it interprets the 2d array by saying there are two arrays inside the main array"
   ]
  },
  {
   "cell_type": "code",
   "execution_count": 14,
   "id": "4fb23d54-fd37-426f-8042-15896df7af7b",
   "metadata": {},
   "outputs": [
    {
     "data": {
      "text/plain": [
       "10"
      ]
     },
     "execution_count": 14,
     "metadata": {},
     "output_type": "execute_result"
    }
   ],
   "source": [
    "arr_2d.size # this will give the total number of all the nested elements in the array"
   ]
  },
  {
   "cell_type": "code",
   "execution_count": 15,
   "id": "baff13b6-083a-4b86-afd2-1c2c3b1e0b70",
   "metadata": {},
   "outputs": [
    {
     "data": {
      "text/plain": [
       "numpy.ndarray"
      ]
     },
     "execution_count": 15,
     "metadata": {},
     "output_type": "execute_result"
    }
   ],
   "source": [
    "type(arr_2d)"
   ]
  },
  {
   "cell_type": "code",
   "execution_count": 16,
   "id": "6489f3fe-dcf6-4f57-9090-ff3b55b4842d",
   "metadata": {},
   "outputs": [
    {
     "data": {
      "text/plain": [
       "dtype('int32')"
      ]
     },
     "execution_count": 16,
     "metadata": {},
     "output_type": "execute_result"
    }
   ],
   "source": [
    "arr_2d.dtype # see the type of data arr_2d is storing"
   ]
  },
  {
   "cell_type": "markdown",
   "id": "d9369fa5-aeda-4c2b-b039-fc4ca3fc5f2e",
   "metadata": {},
   "source": [
    "<!-- Every element in the numpy array must be of the same type. -->"
   ]
  },
  {
   "cell_type": "code",
   "execution_count": 20,
   "id": "a78ddddd-f109-455c-a4c5-926a9bedacb2",
   "metadata": {},
   "outputs": [],
   "source": [
    "# Every element in the array must be of the same type and size."
   ]
  },
  {
   "cell_type": "code",
   "execution_count": 21,
   "id": "5735297c-e1cb-4e75-a11c-e8a89c721710",
   "metadata": {},
   "outputs": [],
   "source": [
    "# If an array's elements are also arrays, those inner arrays must have the same type and number of elements as each other."
   ]
  },
  {
   "cell_type": "code",
   "execution_count": 26,
   "id": "fba0794b-04e7-4c25-babd-450c3ad198cf",
   "metadata": {},
   "outputs": [
    {
     "data": {
      "text/plain": [
       "array(['1', 'hello', 'True'], dtype='<U11')"
      ]
     },
     "execution_count": 26,
     "metadata": {},
     "output_type": "execute_result"
    }
   ],
   "source": [
    "np.array([1,'hello',True]) # numpy doesn't actually throw error if the types are different but rather converts the elements into same type, like here it will convert all the elements to string type"
   ]
  },
  {
   "cell_type": "code",
   "execution_count": 28,
   "id": "d2a254ee-20bb-4e65-8f17-7be77351857a",
   "metadata": {},
   "outputs": [
    {
     "data": {
      "text/plain": [
       "array([[1. , 2. ],\n",
       "       [5.5, 6.7]])"
      ]
     },
     "execution_count": 28,
     "metadata": {},
     "output_type": "execute_result"
    }
   ],
   "source": [
    "np.array(\n",
    "    [[1,2],\n",
    "    [5.5,6.7]]\n",
    ") # here numpy will convert the integer type to float"
   ]
  },
  {
   "cell_type": "code",
   "execution_count": 30,
   "id": "d838935c-c7c4-4e0b-93ec-0cbcbc051786",
   "metadata": {},
   "outputs": [
    {
     "ename": "ValueError",
     "evalue": "setting an array element with a sequence. The requested array has an inhomogeneous shape after 1 dimensions. The detected shape was (2,) + inhomogeneous part.",
     "output_type": "error",
     "traceback": [
      "\u001b[1;31m---------------------------------------------------------------------------\u001b[0m",
      "\u001b[1;31mValueError\u001b[0m                                Traceback (most recent call last)",
      "Cell \u001b[1;32mIn[30], line 1\u001b[0m\n\u001b[1;32m----> 1\u001b[0m \u001b[43mnp\u001b[49m\u001b[38;5;241;43m.\u001b[39;49m\u001b[43marray\u001b[49m\u001b[43m(\u001b[49m\n\u001b[0;32m      2\u001b[0m \u001b[43m    \u001b[49m\u001b[43m[\u001b[49m\u001b[43m[\u001b[49m\u001b[38;5;241;43m1\u001b[39;49m\u001b[43m,\u001b[49m\u001b[38;5;241;43m2\u001b[39;49m\u001b[43m,\u001b[49m\u001b[38;5;241;43m3\u001b[39;49m\u001b[43m,\u001b[49m\u001b[38;5;241;43m4\u001b[39;49m\u001b[43m]\u001b[49m\u001b[43m,\u001b[49m\n\u001b[0;32m      3\u001b[0m \u001b[43m    \u001b[49m\u001b[43m[\u001b[49m\u001b[38;5;241;43m5.5\u001b[39;49m\u001b[43m,\u001b[49m\u001b[38;5;241;43m6.7\u001b[39;49m\u001b[43m]\u001b[49m\u001b[43m]\u001b[49m\n\u001b[0;32m      4\u001b[0m \u001b[43m)\u001b[49m \u001b[38;5;66;03m# if the inner array has different size then it gives an error\u001b[39;00m\n",
      "\u001b[1;31mValueError\u001b[0m: setting an array element with a sequence. The requested array has an inhomogeneous shape after 1 dimensions. The detected shape was (2,) + inhomogeneous part."
     ]
    }
   ],
   "source": [
    "np.array(\n",
    "    [[1,2,3,4],\n",
    "    [5.5,6.7]]\n",
    ") # if the inner array has different size then it gives an error"
   ]
  },
  {
   "cell_type": "code",
   "execution_count": 33,
   "id": "5b43cfcc-a589-4e63-a417-ffba9ef6ff7d",
   "metadata": {},
   "outputs": [],
   "source": [
    "# create an array with 0 values"
   ]
  },
  {
   "cell_type": "code",
   "execution_count": 35,
   "id": "a0da0079-bf87-4092-8712-1550828e1805",
   "metadata": {},
   "outputs": [
    {
     "data": {
      "text/plain": [
       "array([0., 0., 0.])"
      ]
     },
     "execution_count": 35,
     "metadata": {},
     "output_type": "execute_result"
    }
   ],
   "source": [
    "np.zeros(3) # this will create an array with one row and 3 columns whose all elemets default value will be floating 0\n",
    "# or np.zeros(shape=3)"
   ]
  },
  {
   "cell_type": "code",
   "execution_count": 39,
   "id": "37302a59-6b05-46ac-a4f4-ac084387d472",
   "metadata": {},
   "outputs": [
    {
     "data": {
      "text/plain": [
       "array([[0., 0., 0., 0., 0.],\n",
       "       [0., 0., 0., 0., 0.],\n",
       "       [0., 0., 0., 0., 0.]])"
      ]
     },
     "execution_count": 39,
     "metadata": {},
     "output_type": "execute_result"
    }
   ],
   "source": [
    "np.zeros(shape=(3,5)) # this will create an array with 3 rows and 5 columns whose all elemets default value will be floating 0\n",
    "# we must pass shape argument and small bracket to define shape"
   ]
  },
  {
   "cell_type": "code",
   "execution_count": 56,
   "id": "c70eb556-12da-49c5-9f47-74bc0927c621",
   "metadata": {},
   "outputs": [
    {
     "data": {
      "text/plain": [
       "array([[0, 0, 0, 0, 0],\n",
       "       [0, 0, 0, 0, 0],\n",
       "       [0, 0, 0, 0, 0]], dtype=int64)"
      ]
     },
     "execution_count": 56,
     "metadata": {},
     "output_type": "execute_result"
    }
   ],
   "source": [
    "np.zeros(shape=(3,5), dtype='int64') # this will create an array with 3 rows and 5 columns whose all elemets default value will be integer64 0\n",
    "# we must pass shape argument and small bracket to define shape"
   ]
  },
  {
   "cell_type": "code",
   "execution_count": 42,
   "id": "23a80162-2e71-4b60-9c1a-606523d0ccc8",
   "metadata": {},
   "outputs": [
    {
     "data": {
      "text/plain": [
       "array([['cat', 'cat', 'cat', 'cat', 'cat'],\n",
       "       ['cat', 'cat', 'cat', 'cat', 'cat'],\n",
       "       ['cat', 'cat', 'cat', 'cat', 'cat']], dtype='<U3')"
      ]
     },
     "execution_count": 42,
     "metadata": {},
     "output_type": "execute_result"
    }
   ],
   "source": [
    "np.full(shape = (3,5), fill_value = 'cat') # this will create an array with 3 rows and 5 columns whose all elemets default value will be string 'cat'"
   ]
  },
  {
   "cell_type": "code",
   "execution_count": 43,
   "id": "004c96ec-df5c-4acb-9c6a-e6103bb9eccd",
   "metadata": {},
   "outputs": [
    {
     "data": {
      "text/plain": [
       "array([1, 2, 3, 4])"
      ]
     },
     "execution_count": 43,
     "metadata": {},
     "output_type": "execute_result"
    }
   ],
   "source": [
    "# print a pattern\n",
    "np.arange(start=1, stop=5, step=1)"
   ]
  },
  {
   "cell_type": "code",
   "execution_count": 44,
   "id": "cdbb21d3-60a5-4f8b-b869-d8b68dace7f6",
   "metadata": {},
   "outputs": [
    {
     "data": {
      "text/plain": [
       "array([0, 1, 2, 3, 4, 5, 6, 7, 8, 9])"
      ]
     },
     "execution_count": 44,
     "metadata": {},
     "output_type": "execute_result"
    }
   ],
   "source": [
    "np.arange(10)"
   ]
  },
  {
   "cell_type": "code",
   "execution_count": 46,
   "id": "a6fe1448-cf3d-444c-92b3-25794cc59f66",
   "metadata": {},
   "outputs": [
    {
     "data": {
      "text/plain": [
       "array([[5, 3, 1],\n",
       "       [5, 4, 5]])"
      ]
     },
     "execution_count": 46,
     "metadata": {},
     "output_type": "execute_result"
    }
   ],
   "source": [
    "# print random number for a certain size\n",
    "np.random.randint(low = 1, high = 7, size = (2,3))"
   ]
  },
  {
   "cell_type": "code",
   "execution_count": 48,
   "id": "f7fc1af5-31b6-4e83-aaff-537c0c42dd3c",
   "metadata": {},
   "outputs": [
    {
     "data": {
      "text/plain": [
       "array([[6, 2, 5],\n",
       "       [4, 4, 1]])"
      ]
     },
     "execution_count": 48,
     "metadata": {},
     "output_type": "execute_result"
    }
   ],
   "source": [
    "np.random.randint(low = 1, high = 7, size = (2,3))"
   ]
  },
  {
   "cell_type": "code",
   "execution_count": 57,
   "id": "fc208e53-4be6-4bea-8a4d-d0dad63c7a7d",
   "metadata": {},
   "outputs": [],
   "source": [
    "arr1 = np.array([10,20,30,40,50])"
   ]
  },
  {
   "cell_type": "code",
   "execution_count": 50,
   "id": "9c9dc040-9e6a-485a-b244-33dde1a4d093",
   "metadata": {},
   "outputs": [
    {
     "data": {
      "text/plain": [
       "20"
      ]
     },
     "execution_count": 50,
     "metadata": {},
     "output_type": "execute_result"
    }
   ],
   "source": [
    "arr1[1]"
   ]
  },
  {
   "cell_type": "code",
   "execution_count": 61,
   "id": "61142934-fd71-440d-9dc8-bad99fe4b22e",
   "metadata": {},
   "outputs": [],
   "source": [
    "# arr1[0]=34"
   ]
  },
  {
   "cell_type": "code",
   "execution_count": 58,
   "id": "a212e1b7-52e5-4a7b-9ccf-bc11f43e9882",
   "metadata": {},
   "outputs": [
    {
     "data": {
      "text/plain": [
       "array([10, 20, 30, 40, 50])"
      ]
     },
     "execution_count": 58,
     "metadata": {},
     "output_type": "execute_result"
    }
   ],
   "source": [
    "arr1"
   ]
  },
  {
   "cell_type": "code",
   "execution_count": 62,
   "id": "6f291b50-944b-4467-b424-b19473ca1780",
   "metadata": {},
   "outputs": [
    {
     "data": {
      "text/plain": [
       "50"
      ]
     },
     "execution_count": 62,
     "metadata": {},
     "output_type": "execute_result"
    }
   ],
   "source": [
    "arr1[-1]"
   ]
  },
  {
   "cell_type": "code",
   "execution_count": 63,
   "id": "fc0f170c-023a-407b-ab5f-8f6853e4b348",
   "metadata": {},
   "outputs": [
    {
     "data": {
      "text/plain": [
       "array([20, 10])"
      ]
     },
     "execution_count": 63,
     "metadata": {},
     "output_type": "execute_result"
    }
   ],
   "source": [
    "# get multiple index value\n",
    "arr1[[1,0]]"
   ]
  },
  {
   "cell_type": "code",
   "execution_count": 60,
   "id": "c157c241-139d-4781-b5f2-c3cae7a8c2e1",
   "metadata": {},
   "outputs": [
    {
     "data": {
      "text/plain": [
       "array([10, 20])"
      ]
     },
     "execution_count": 60,
     "metadata": {},
     "output_type": "execute_result"
    }
   ],
   "source": [
    "# slicing same as python list\n",
    "arr1[:2] # give the elements from beginning of array to index 2 exclusive. Basically gives 0 and 1 index value"
   ]
  },
  {
   "cell_type": "code",
   "execution_count": 64,
   "id": "c2df38aa-ff51-4c10-91cd-0c3087d7e5ac",
   "metadata": {},
   "outputs": [
    {
     "data": {
      "text/plain": [
       "array([30, 40, 50])"
      ]
     },
     "execution_count": 64,
     "metadata": {},
     "output_type": "execute_result"
    }
   ],
   "source": [
    "arr1[2:] # give the elements from index 2 to end of the array"
   ]
  },
  {
   "cell_type": "code",
   "execution_count": 67,
   "id": "1f7177b4-3863-44ea-a83b-ef4a581a7830",
   "metadata": {},
   "outputs": [
    {
     "data": {
      "text/plain": [
       "array([10, 30, 50])"
      ]
     },
     "execution_count": 67,
     "metadata": {},
     "output_type": "execute_result"
    }
   ],
   "source": [
    "# collection[start:stop:step]\n",
    "arr1[::2] # give the elements from index 0 to end by skipping to every next 2nd index so index 0,2,4 will be returned as 0,0+2,2+2 = 0,2,4"
   ]
  },
  {
   "cell_type": "code",
   "execution_count": 71,
   "id": "e1e80a86-3920-4495-8ccc-9907d71a2524",
   "metadata": {},
   "outputs": [],
   "source": [
    "arr1[[0,1,4]] = 1 # replaces index 0, 1 and 4 element value with 1"
   ]
  },
  {
   "cell_type": "code",
   "execution_count": 72,
   "id": "7c285193-e318-4655-8da9-08160607098b",
   "metadata": {},
   "outputs": [
    {
     "data": {
      "text/plain": [
       "array([ 1,  1, 30, 40,  1])"
      ]
     },
     "execution_count": 72,
     "metadata": {},
     "output_type": "execute_result"
    }
   ],
   "source": [
    "arr1"
   ]
  },
  {
   "cell_type": "code",
   "execution_count": 70,
   "id": "2e8d506d-07b0-45b5-b860-bc99f97d7d1b",
   "metadata": {},
   "outputs": [
    {
     "data": {
      "text/plain": [
       "array([20, 40])"
      ]
     },
     "execution_count": 70,
     "metadata": {},
     "output_type": "execute_result"
    }
   ],
   "source": [
    "arr1[1:4:2] # give the elements from index 1 to 4 by skipping to every next two indexes so index 1,3 will be returned as 1,1+2,3+2(5 wchich is out of bound so this is skipped) = 0,3"
   ]
  },
  {
   "cell_type": "code",
   "execution_count": 82,
   "id": "90b4a3f7-6a6e-416a-8896-3818133cec37",
   "metadata": {},
   "outputs": [],
   "source": [
    "# Two dimensional array"
   ]
  },
  {
   "cell_type": "code",
   "execution_count": 85,
   "id": "30348383-d0a2-4fcf-8822-260bf46aab2a",
   "metadata": {},
   "outputs": [],
   "source": [
    "arr2=np.array(\n",
    "    [\n",
    "        [5,10,15,10],\n",
    "        [25,30,35,40],\n",
    "        [45,50,55,60]\n",
    "    ]\n",
    "    )"
   ]
  },
  {
   "cell_type": "code",
   "execution_count": 78,
   "id": "ef0600a8-cc8e-4a88-90ae-57725ec1210a",
   "metadata": {},
   "outputs": [
    {
     "data": {
      "text/plain": [
       "35"
      ]
     },
     "execution_count": 78,
     "metadata": {},
     "output_type": "execute_result"
    }
   ],
   "source": [
    "arr2[1,2] # 1 then index row and 2th index column"
   ]
  },
  {
   "cell_type": "code",
   "execution_count": 80,
   "id": "6a77a88b-d6c4-4c67-85ea-d347aa771093",
   "metadata": {},
   "outputs": [
    {
     "data": {
      "text/plain": [
       "array([ 5, 10, 15, 10])"
      ]
     },
     "execution_count": 80,
     "metadata": {},
     "output_type": "execute_result"
    }
   ],
   "source": [
    "arr2[0] # get first row of an array"
   ]
  },
  {
   "cell_type": "code",
   "execution_count": 81,
   "id": "6699754f-9d80-4eb5-9645-4f086a290bd3",
   "metadata": {},
   "outputs": [
    {
     "data": {
      "text/plain": [
       "array([[ 5, 10, 15, 10]])"
      ]
     },
     "execution_count": 81,
     "metadata": {},
     "output_type": "execute_result"
    }
   ],
   "source": [
    "arr2[0,None] # get only first array row of the array and no other columhn. Look closely there will be nested array but with only one first row"
   ]
  },
  {
   "cell_type": "code",
   "execution_count": 83,
   "id": "06507cf2-8555-42eb-8086-08d48a09ede0",
   "metadata": {},
   "outputs": [],
   "source": [
    "# Three dimensional array"
   ]
  },
  {
   "cell_type": "code",
   "execution_count": 86,
   "id": "ae32a1dc-efc5-4f0e-a87d-534ea4d3854c",
   "metadata": {},
   "outputs": [],
   "source": [
    "arr3 = np.array([\n",
    "    [\n",
    "        [10,20],\n",
    "        [30,40],\n",
    "        [50,60]\n",
    "    ],\n",
    "        [\n",
    "        [11,12],\n",
    "        [13,14],\n",
    "        [15,16]\n",
    "    ]\n",
    "])"
   ]
  },
  {
   "cell_type": "code",
   "execution_count": 87,
   "id": "967c7908-bc1b-42f4-9cdd-36f08e41cefb",
   "metadata": {},
   "outputs": [],
   "source": [
    "arr3[0,:,1] = 5 # set first matrix's every row's first column to 5"
   ]
  },
  {
   "cell_type": "code",
   "execution_count": 88,
   "id": "8cda3ff2-3973-4520-8fc4-7b311821d808",
   "metadata": {},
   "outputs": [
    {
     "data": {
      "text/plain": [
       "array([[[10,  5],\n",
       "        [30,  5],\n",
       "        [50,  5]],\n",
       "\n",
       "       [[11, 12],\n",
       "        [13, 14],\n",
       "        [15, 16]]])"
      ]
     },
     "execution_count": 88,
     "metadata": {},
     "output_type": "execute_result"
    }
   ],
   "source": [
    "arr3"
   ]
  },
  {
   "cell_type": "code",
   "execution_count": null,
   "id": "efa93f0a-e004-4f65-b445-79c1886ce33b",
   "metadata": {},
   "outputs": [],
   "source": []
  }
 ],
 "metadata": {
  "kernelspec": {
   "display_name": "Python 3 (ipykernel)",
   "language": "python",
   "name": "python3"
  },
  "language_info": {
   "codemirror_mode": {
    "name": "ipython",
    "version": 3
   },
   "file_extension": ".py",
   "mimetype": "text/x-python",
   "name": "python",
   "nbconvert_exporter": "python",
   "pygments_lexer": "ipython3",
   "version": "3.12.1"
  }
 },
 "nbformat": 4,
 "nbformat_minor": 5
}
